{
 "cells": [
  {
   "cell_type": "code",
   "execution_count": 1,
   "id": "complete-possibility",
   "metadata": {},
   "outputs": [],
   "source": [
    "import numpy as np\n",
    "import pandas as pd"
   ]
  },
  {
   "cell_type": "markdown",
   "id": "active-somerset",
   "metadata": {},
   "source": [
    "# gauss elimination with partial pivoting"
   ]
  },
  {
   "cell_type": "code",
   "execution_count": 2,
   "id": "efficient-hazard",
   "metadata": {},
   "outputs": [],
   "source": [
    "def geli_par_piv(ip_mat):\n",
    "    fmat=ip_mat\n",
    "    mat_shape=fmat.shape\n",
    "    #pmat is a 3d array where number of stacks is equal to total number of permutations(row interchange)\n",
    "    pmat=np.zeros([min(mat_shape[0]-1,mat_shape[1]),mat_shape[0],mat_shape[0]],dtype=np.float)#(1.)only for square matrices #(2.)i will make it an optional output of the function\n",
    "    lmat=np.identity(mat_shape[0],dtype=np.float)#initialising unit lower triangular matrix\n",
    "    for col_i in range(0,min(mat_shape[0]-1,mat_shape[1])):\n",
    "        temp_pivot_index=col_i\n",
    "        temp_pivot=fmat[col_i,col_i]\n",
    "        pmat[col_i,:,:]=np.identity(mat_shape[0])#careful! there is a subtle difference in indexing for defining and that for slicing.\n",
    "        for temp_checking_index in range(col_i+1,mat_shape[0]):\n",
    "            #finding rows to swap \n",
    "            if (abs(temp_pivot)<abs(fmat[temp_checking_index,col_i])):\n",
    "                temp_pivot_index=temp_checking_index\n",
    "                temp_pivot=fmat[temp_checking_index,col_i]\n",
    "        print(\" -------------STEP NUMBER \",col_i, \"-------------\")\n",
    "        print(\"temp_pivot_index is=\",temp_pivot_index)\n",
    "        print(\"col_i is=\",col_i)\n",
    "        #swapping rows\n",
    "        #here i also need to keep track of indices of those rows which are interchanged (this is important for LU factorisation)\n",
    "        if (temp_pivot_index != col_i):\n",
    "            fmat[[col_i,temp_pivot_index],:] = fmat[[temp_pivot_index,col_i],:] #swapping rows #https://stackoverflow.com/questions/54069863/swap-two-rows-in-a-numpy-array-in-python\n",
    "            pmat[col_i,[col_i,temp_pivot_index],:] = pmat[col_i,[temp_pivot_index,col_i],:] #permutation matrix p_i at ith step\n",
    "            print(\"fmat after partial pivoting\")\n",
    "            print(fmat)\n",
    "            lmat[[col_i,temp_pivot_index],0:col_i]=lmat[[temp_pivot_index,col_i],0:col_i]#important step\n",
    "        #making elements below the pivot entries as zero\n",
    "        print(\"associated unit lower triangular matrix till low\")\n",
    "        print(lmat)\n",
    "        for temp_red_zero_index in range(col_i+1,mat_shape[0]):\n",
    "            subtrahend_vector=fmat[col_i,:]*(fmat[temp_red_zero_index,col_i]/fmat[col_i,col_i])\n",
    "            print(\"subtrahend vector=\")\n",
    "            print(subtrahend_vector)\n",
    "            print(\"multiplier is:\")\n",
    "            print(fmat[temp_red_zero_index,col_i]/fmat[col_i,col_i])\n",
    "            lmat[temp_red_zero_index,col_i]=(fmat[temp_red_zero_index,col_i]/fmat[col_i,col_i])\n",
    "            fmat[temp_red_zero_index,:]=np.subtract(fmat[temp_red_zero_index,:],subtrahend_vector)\n",
    "            print(\"NOW AFTER REDUCING ELEMENTS BELOW PIVOT ZERO THE INPUT MATRIX FMAT IS=\")\n",
    "            print(fmat)\n",
    "            print(\"associated unit lower triangular matrix\")\n",
    "            print(lmat)\n",
    "        print(\"3d permutation matrix is:\")\n",
    "        print(pmat)\n",
    "\n",
    "    return fmat\n",
    "            \n",
    "        "
   ]
  },
  {
   "cell_type": "markdown",
   "id": "delayed-hospital",
   "metadata": {},
   "source": [
    "# main program"
   ]
  },
  {
   "cell_type": "code",
   "execution_count": 3,
   "id": "bound-suspension",
   "metadata": {
    "scrolled": true
   },
   "outputs": [
    {
     "name": "stdout",
     "output_type": "stream",
     "text": [
      " -------------STEP NUMBER  0 -------------\n",
      "temp_pivot_index is= 0\n",
      "col_i is= 0\n",
      "associated unit lower triangular matrix till low\n",
      "[[1. 0. 0.]\n",
      " [0. 1. 0.]\n",
      " [0. 0. 1.]]\n",
      "subtrahend vector=\n",
      "[0. 0. 0. 0.]\n",
      "multiplier is:\n",
      "0.0\n",
      "NOW AFTER REDUCING ELEMENTS BELOW PIVOT ZERO THE INPUT MATRIX FMAT IS=\n",
      "[[ 1.000e+00  1.000e+00  0.000e+00  1.000e-04]\n",
      " [ 0.000e+00  2.000e+00  1.000e+00  1.000e-04]\n",
      " [ 0.000e+00  0.000e+00  3.000e+00 -1.666e+00]]\n",
      "associated unit lower triangular matrix\n",
      "[[1. 0. 0.]\n",
      " [0. 1. 0.]\n",
      " [0. 0. 1.]]\n",
      "subtrahend vector=\n",
      "[0. 0. 0. 0.]\n",
      "multiplier is:\n",
      "0.0\n",
      "NOW AFTER REDUCING ELEMENTS BELOW PIVOT ZERO THE INPUT MATRIX FMAT IS=\n",
      "[[ 1.000e+00  1.000e+00  0.000e+00  1.000e-04]\n",
      " [ 0.000e+00  2.000e+00  1.000e+00  1.000e-04]\n",
      " [ 0.000e+00  0.000e+00  3.000e+00 -1.666e+00]]\n",
      "associated unit lower triangular matrix\n",
      "[[1. 0. 0.]\n",
      " [0. 1. 0.]\n",
      " [0. 0. 1.]]\n",
      "3d permutation matrix is:\n",
      "[[[1. 0. 0.]\n",
      "  [0. 1. 0.]\n",
      "  [0. 0. 1.]]\n",
      "\n",
      " [[0. 0. 0.]\n",
      "  [0. 0. 0.]\n",
      "  [0. 0. 0.]]]\n",
      " -------------STEP NUMBER  1 -------------\n",
      "temp_pivot_index is= 1\n",
      "col_i is= 1\n",
      "associated unit lower triangular matrix till low\n",
      "[[1. 0. 0.]\n",
      " [0. 1. 0.]\n",
      " [0. 0. 1.]]\n",
      "subtrahend vector=\n",
      "[0. 0. 0. 0.]\n",
      "multiplier is:\n",
      "0.0\n",
      "NOW AFTER REDUCING ELEMENTS BELOW PIVOT ZERO THE INPUT MATRIX FMAT IS=\n",
      "[[ 1.000e+00  1.000e+00  0.000e+00  1.000e-04]\n",
      " [ 0.000e+00  2.000e+00  1.000e+00  1.000e-04]\n",
      " [ 0.000e+00  0.000e+00  3.000e+00 -1.666e+00]]\n",
      "associated unit lower triangular matrix\n",
      "[[1. 0. 0.]\n",
      " [0. 1. 0.]\n",
      " [0. 0. 1.]]\n",
      "3d permutation matrix is:\n",
      "[[[1. 0. 0.]\n",
      "  [0. 1. 0.]\n",
      "  [0. 0. 1.]]\n",
      "\n",
      " [[1. 0. 0.]\n",
      "  [0. 1. 0.]\n",
      "  [0. 0. 1.]]]\n",
      "c matrix is=\n",
      "[[ 1.000e+00  1.000e+00  0.000e+00  1.000e-04]\n",
      " [ 0.000e+00  2.000e+00  1.000e+00  1.000e-04]\n",
      " [ 0.000e+00  0.000e+00  3.000e+00 -1.666e+00]]\n"
     ]
    }
   ],
   "source": [
    "#trial_mat=np.array([[1,17,3,4,5],[6,7,8,9,10],[23,45,1,23,532],[5,22,3,12,0],[2,5,3,6,11]],dtype=np.float)#dtype is important to mention\n",
    "#trial_mat=np.array([[3,4],[8,9],[1,23]],dtype=np.float)\n",
    "#trial_mat=np.array([[0.02,0.01,0,0,0.02],[1,2,1,0,1],[0,1,2,1,4],[0,0,100,200,800]],dtype=np.float)\n",
    "#trial_mat=np.array([[2,2,3],[4,5,6],[1,2,4]],dtype=np.float)#eg. 5.6\n",
    "#trial_mat=np.array([[-1,1,6],[-4,-8,6],[2,16,23]],dtype=np.float)\n",
    "#trial_mat=np.array([[2,1,1,0],[4,3,3,1],[8,7,9,5],[6,7,9,8]],dtype=np.float)\n",
    "trial_mat=np.array([[1,2,4],[4,5,6],[7,8,9]],dtype=np.float)\n",
    "#trial_mat=np.array([[1,1,0,0.0001],[0,2,1,0.0001],[0,0,3,-1.666]],dtype=np.float)\n",
    "c=geli_par_piv(trial_mat)\n",
    "print(\"c matrix is=\")\n",
    "print(c)"
   ]
  },
  {
   "cell_type": "markdown",
   "id": "stylish-taiwan",
   "metadata": {},
   "source": [
    "#### List of links I used as reference for syntax , mathematics, example problems etc. Also included links to some stuff i found interesting!\n",
    "1. PA=LU Factorisation youtube channel Antonio Mastroberardino:: https://www.youtube.com/watch?v=f6RT4BI4S7M\n",
    "2. example probelm 4X4 matrix:: https://math.stackexchange.com/questions/485513/what-are-pivot-numbers-in-lu-decomposition-please-explain-me-in-an-example\n",
    "3. https://hal-univ-paris13.archives-ouvertes.fr/hal-01809975/document: Efficient algorithms to perform linear algebra operations on 3D arrays in vector languages - research paper by Francois Cuvelier. (seems interesting, will read it later for sure) \n",
    " \n",
    "\n"
   ]
  },
  {
   "cell_type": "markdown",
   "id": "velvet-voice",
   "metadata": {},
   "source": [
    "#### MISTAKES I MADE:\n",
    "1. swapping rows:             #For anybody else confused about the notation a[[0, 2]] is shorthand for a[[0, 2], :] \n",
    "            #so this selects the submatrix consisting of all of rows 0 and 2. To interchange columns, one would use a[:, [0, 2]] = a[:, [2, 0]]\n",
    "            '''\n",
    "            swap_temp_vec=fmat[col_i,:]\n",
    "            print(\"swap_temp_vec is=\")\n",
    "            print(swap_temp_vec)\n",
    "            fmat[col_i,:]=fmat[temp_pivot_index,:]#+1\n",
    "            print(\"NOW swap_temp_vec is=\")#good that i came across this! it is one of the most important feature of python\n",
    "            print(swap_temp_vec)\n",
    "            fmat[temp_pivot_index,:]=swap_temp_vec\n",
    "            '''\n",
    "2. always mention the data type of your numpy array np.array(values,dtype=e.g. float)\n",
    "3. SHAPE of numpy array : https://opensourceoptions.com/blog/numpy-array-shapes-and-reshaping-arrays/#:~:text=3D%20arrays,order%20layers%2C%20rows%2C%20columns. i was a little confused for 3d arrays. the shape format used by numpy is (layers,rows,columns)"
   ]
  },
  {
   "cell_type": "code",
   "execution_count": null,
   "id": "instrumental-workplace",
   "metadata": {},
   "outputs": [],
   "source": []
  }
 ],
 "metadata": {
  "kernelspec": {
   "display_name": "Python 3",
   "language": "python",
   "name": "python3"
  },
  "language_info": {
   "codemirror_mode": {
    "name": "ipython",
    "version": 3
   },
   "file_extension": ".py",
   "mimetype": "text/x-python",
   "name": "python",
   "nbconvert_exporter": "python",
   "pygments_lexer": "ipython3",
   "version": "3.9.1"
  }
 },
 "nbformat": 4,
 "nbformat_minor": 5
}
